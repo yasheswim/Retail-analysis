{
 "cells": [
  {
   "cell_type": "code",
   "execution_count": 1,
   "metadata": {
    "id": "yk4eHqYks2Dh"
   },
   "outputs": [],
   "source": [
    "import pandas as pd\n",
    "import numpy as np\n",
    "import matplotlib.pyplot as plt\n",
    "import seaborn as sns \n",
    "sns.set_style('whitegrid')\n",
    "import warnings\n",
    "warnings.filterwarnings('ignore')\n",
    "color = sns.color_palette()"
   ]
  },
  {
   "cell_type": "code",
   "execution_count": 2,
   "metadata": {
    "colab": {
     "base_uri": "https://localhost:8080/",
     "height": 347
    },
    "id": "oijgI1Alt7nW",
    "outputId": "bee62b60-7eec-4740-ebae-d13af9e373cd"
   },
   "outputs": [
    {
     "data": {
      "text/html": [
       "<div>\n",
       "<style scoped>\n",
       "    .dataframe tbody tr th:only-of-type {\n",
       "        vertical-align: middle;\n",
       "    }\n",
       "\n",
       "    .dataframe tbody tr th {\n",
       "        vertical-align: top;\n",
       "    }\n",
       "\n",
       "    .dataframe thead th {\n",
       "        text-align: right;\n",
       "    }\n",
       "</style>\n",
       "<table border=\"1\" class=\"dataframe\">\n",
       "  <thead>\n",
       "    <tr style=\"text-align: right;\">\n",
       "      <th></th>\n",
       "      <th>Retailer Name</th>\n",
       "      <th>Brand1</th>\n",
       "      <th>Brand2</th>\n",
       "      <th>Brand3</th>\n",
       "      <th>Brand4</th>\n",
       "      <th>Brand5</th>\n",
       "      <th>Brand6</th>\n",
       "      <th>Brand8</th>\n",
       "      <th>Brand9</th>\n",
       "      <th>Brand10</th>\n",
       "      <th>Brand11</th>\n",
       "      <th>Brand12</th>\n",
       "      <th>Number of Brands</th>\n",
       "      <th>Total Sales</th>\n",
       "      <th>cluster</th>\n",
       "    </tr>\n",
       "  </thead>\n",
       "  <tbody>\n",
       "    <tr>\n",
       "      <th>0</th>\n",
       "      <td>Retailer 1</td>\n",
       "      <td>0.0000</td>\n",
       "      <td>0.0</td>\n",
       "      <td>0.0</td>\n",
       "      <td>0.000</td>\n",
       "      <td>0.0000</td>\n",
       "      <td>0.0</td>\n",
       "      <td>0.0</td>\n",
       "      <td>0.000</td>\n",
       "      <td>30826.6100</td>\n",
       "      <td>0.0</td>\n",
       "      <td>0.0</td>\n",
       "      <td>1</td>\n",
       "      <td>30826.6100</td>\n",
       "      <td>3</td>\n",
       "    </tr>\n",
       "    <tr>\n",
       "      <th>1</th>\n",
       "      <td>Retailer 2</td>\n",
       "      <td>9833.1060</td>\n",
       "      <td>0.0</td>\n",
       "      <td>0.0</td>\n",
       "      <td>24073.632</td>\n",
       "      <td>33806.4312</td>\n",
       "      <td>0.0</td>\n",
       "      <td>0.0</td>\n",
       "      <td>0.000</td>\n",
       "      <td>0.0000</td>\n",
       "      <td>0.0</td>\n",
       "      <td>0.0</td>\n",
       "      <td>3</td>\n",
       "      <td>67713.1692</td>\n",
       "      <td>0</td>\n",
       "    </tr>\n",
       "    <tr>\n",
       "      <th>2</th>\n",
       "      <td>Retailer 3</td>\n",
       "      <td>24690.6708</td>\n",
       "      <td>0.0</td>\n",
       "      <td>0.0</td>\n",
       "      <td>0.000</td>\n",
       "      <td>27367.0386</td>\n",
       "      <td>0.0</td>\n",
       "      <td>0.0</td>\n",
       "      <td>12948.696</td>\n",
       "      <td>0.0000</td>\n",
       "      <td>0.0</td>\n",
       "      <td>0.0</td>\n",
       "      <td>3</td>\n",
       "      <td>65006.4054</td>\n",
       "      <td>0</td>\n",
       "    </tr>\n",
       "    <tr>\n",
       "      <th>3</th>\n",
       "      <td>Retailer 4</td>\n",
       "      <td>0.0000</td>\n",
       "      <td>0.0</td>\n",
       "      <td>0.0</td>\n",
       "      <td>0.000</td>\n",
       "      <td>0.0000</td>\n",
       "      <td>0.0</td>\n",
       "      <td>0.0</td>\n",
       "      <td>0.000</td>\n",
       "      <td>0.0000</td>\n",
       "      <td>0.0</td>\n",
       "      <td>0.0</td>\n",
       "      <td>0</td>\n",
       "      <td>0.0000</td>\n",
       "      <td>1</td>\n",
       "    </tr>\n",
       "    <tr>\n",
       "      <th>4</th>\n",
       "      <td>Retailer 5</td>\n",
       "      <td>0.0000</td>\n",
       "      <td>0.0</td>\n",
       "      <td>0.0</td>\n",
       "      <td>0.000</td>\n",
       "      <td>0.0000</td>\n",
       "      <td>0.0</td>\n",
       "      <td>0.0</td>\n",
       "      <td>0.000</td>\n",
       "      <td>0.0000</td>\n",
       "      <td>0.0</td>\n",
       "      <td>0.0</td>\n",
       "      <td>0</td>\n",
       "      <td>0.0000</td>\n",
       "      <td>1</td>\n",
       "    </tr>\n",
       "    <tr>\n",
       "      <th>5</th>\n",
       "      <td>Retailer 6</td>\n",
       "      <td>0.0000</td>\n",
       "      <td>0.0</td>\n",
       "      <td>0.0</td>\n",
       "      <td>0.000</td>\n",
       "      <td>0.0000</td>\n",
       "      <td>0.0</td>\n",
       "      <td>0.0</td>\n",
       "      <td>0.000</td>\n",
       "      <td>0.0000</td>\n",
       "      <td>0.0</td>\n",
       "      <td>0.0</td>\n",
       "      <td>0</td>\n",
       "      <td>0.0000</td>\n",
       "      <td>1</td>\n",
       "    </tr>\n",
       "    <tr>\n",
       "      <th>6</th>\n",
       "      <td>Retailer 7</td>\n",
       "      <td>0.0000</td>\n",
       "      <td>0.0</td>\n",
       "      <td>0.0</td>\n",
       "      <td>0.000</td>\n",
       "      <td>0.0000</td>\n",
       "      <td>0.0</td>\n",
       "      <td>0.0</td>\n",
       "      <td>25897.392</td>\n",
       "      <td>0.0000</td>\n",
       "      <td>0.0</td>\n",
       "      <td>0.0</td>\n",
       "      <td>1</td>\n",
       "      <td>25897.3920</td>\n",
       "      <td>3</td>\n",
       "    </tr>\n",
       "    <tr>\n",
       "      <th>7</th>\n",
       "      <td>Retailer 8</td>\n",
       "      <td>0.0000</td>\n",
       "      <td>0.0</td>\n",
       "      <td>0.0</td>\n",
       "      <td>0.000</td>\n",
       "      <td>0.0000</td>\n",
       "      <td>0.0</td>\n",
       "      <td>0.0</td>\n",
       "      <td>0.000</td>\n",
       "      <td>0.0000</td>\n",
       "      <td>0.0</td>\n",
       "      <td>0.0</td>\n",
       "      <td>0</td>\n",
       "      <td>0.0000</td>\n",
       "      <td>1</td>\n",
       "    </tr>\n",
       "    <tr>\n",
       "      <th>8</th>\n",
       "      <td>Retailer 9</td>\n",
       "      <td>0.0000</td>\n",
       "      <td>0.0</td>\n",
       "      <td>0.0</td>\n",
       "      <td>0.000</td>\n",
       "      <td>0.0000</td>\n",
       "      <td>0.0</td>\n",
       "      <td>0.0</td>\n",
       "      <td>0.000</td>\n",
       "      <td>0.0000</td>\n",
       "      <td>0.0</td>\n",
       "      <td>0.0</td>\n",
       "      <td>0</td>\n",
       "      <td>0.0000</td>\n",
       "      <td>1</td>\n",
       "    </tr>\n",
       "    <tr>\n",
       "      <th>9</th>\n",
       "      <td>Retailer 10</td>\n",
       "      <td>0.0000</td>\n",
       "      <td>0.0</td>\n",
       "      <td>0.0</td>\n",
       "      <td>0.000</td>\n",
       "      <td>0.0000</td>\n",
       "      <td>0.0</td>\n",
       "      <td>0.0</td>\n",
       "      <td>0.000</td>\n",
       "      <td>31309.9064</td>\n",
       "      <td>0.0</td>\n",
       "      <td>0.0</td>\n",
       "      <td>1</td>\n",
       "      <td>31309.9064</td>\n",
       "      <td>3</td>\n",
       "    </tr>\n",
       "  </tbody>\n",
       "</table>\n",
       "</div>"
      ],
      "text/plain": [
       "  Retailer Name      Brand1  Brand2  ...  Number of Brands  Total Sales  cluster\n",
       "0    Retailer 1      0.0000     0.0  ...                 1   30826.6100        3\n",
       "1    Retailer 2   9833.1060     0.0  ...                 3   67713.1692        0\n",
       "2    Retailer 3  24690.6708     0.0  ...                 3   65006.4054        0\n",
       "3    Retailer 4      0.0000     0.0  ...                 0       0.0000        1\n",
       "4    Retailer 5      0.0000     0.0  ...                 0       0.0000        1\n",
       "5    Retailer 6      0.0000     0.0  ...                 0       0.0000        1\n",
       "6    Retailer 7      0.0000     0.0  ...                 1   25897.3920        3\n",
       "7    Retailer 8      0.0000     0.0  ...                 0       0.0000        1\n",
       "8    Retailer 9      0.0000     0.0  ...                 0       0.0000        1\n",
       "9   Retailer 10      0.0000     0.0  ...                 1   31309.9064        3\n",
       "\n",
       "[10 rows x 15 columns]"
      ]
     },
     "execution_count": 2,
     "metadata": {
      "tags": []
     },
     "output_type": "execute_result"
    }
   ],
   "source": [
    "df=pd.read_csv(\"/content/drive/MyDrive/Case_study.csv\")\n",
    "df.head(10)"
   ]
  },
  {
   "cell_type": "code",
   "execution_count": 3,
   "metadata": {
    "id": "cSybBWFOt7rI"
   },
   "outputs": [],
   "source": [
    "##Making a separate column to form categorical variables from the cluster column\n",
    "df=df.drop(['Total Sales','Retailer Name'],axis=1)\n",
    "df['Category of Retailer']='High'\n",
    "df.loc[df.cluster==1,\"Category of Retailer\"] = \"No_sales\"\n",
    "df.loc[df.cluster==3,\"Category of Retailer\"] = \"Low\"\n",
    "df.loc[df.cluster==0,\"Category of Retailer\"] = \"Moderate\"\n",
    "df.loc[df.cluster==2,\"Category of Retailer\"] = \"High\""
   ]
  },
  {
   "cell_type": "code",
   "execution_count": 4,
   "metadata": {
    "id": "QovwNpGgJIx8"
   },
   "outputs": [],
   "source": [
    "df=df.drop(['cluster'],axis=1)"
   ]
  },
  {
   "cell_type": "code",
   "execution_count": 5,
   "metadata": {
    "id": "yTzYX2QJ2bBi"
   },
   "outputs": [],
   "source": [
    "##Defining a normailzation function\n",
    "def norm_func(i):\n",
    "    x = (i-i.min())\t/\t(i.max()\t-\ti.min())\n",
    "    return (x)"
   ]
  },
  {
   "cell_type": "code",
   "execution_count": 6,
   "metadata": {
    "colab": {
     "base_uri": "https://localhost:8080/",
     "height": 407
    },
    "id": "JVro3NXvyYRb",
    "outputId": "d9fcbd3d-4ee1-4c21-ac06-7d2913ce3c1e"
   },
   "outputs": [
    {
     "data": {
      "text/html": [
       "<div>\n",
       "<style scoped>\n",
       "    .dataframe tbody tr th:only-of-type {\n",
       "        vertical-align: middle;\n",
       "    }\n",
       "\n",
       "    .dataframe tbody tr th {\n",
       "        vertical-align: top;\n",
       "    }\n",
       "\n",
       "    .dataframe thead th {\n",
       "        text-align: right;\n",
       "    }\n",
       "</style>\n",
       "<table border=\"1\" class=\"dataframe\">\n",
       "  <thead>\n",
       "    <tr style=\"text-align: right;\">\n",
       "      <th></th>\n",
       "      <th>Brand1</th>\n",
       "      <th>Brand2</th>\n",
       "      <th>Brand3</th>\n",
       "      <th>Brand4</th>\n",
       "      <th>Brand5</th>\n",
       "      <th>Brand6</th>\n",
       "      <th>Brand8</th>\n",
       "      <th>Brand9</th>\n",
       "      <th>Brand10</th>\n",
       "      <th>Brand11</th>\n",
       "      <th>Brand12</th>\n",
       "      <th>Number of Brands</th>\n",
       "      <th>Category of Retailer</th>\n",
       "    </tr>\n",
       "  </thead>\n",
       "  <tbody>\n",
       "    <tr>\n",
       "      <th>0</th>\n",
       "      <td>0.000000</td>\n",
       "      <td>0.0</td>\n",
       "      <td>0.0</td>\n",
       "      <td>0.00</td>\n",
       "      <td>0.000000</td>\n",
       "      <td>0.000000</td>\n",
       "      <td>0.0</td>\n",
       "      <td>0.000000</td>\n",
       "      <td>0.212293</td>\n",
       "      <td>0.0</td>\n",
       "      <td>0.0</td>\n",
       "      <td>0.111111</td>\n",
       "      <td>Low</td>\n",
       "    </tr>\n",
       "    <tr>\n",
       "      <th>1</th>\n",
       "      <td>0.048387</td>\n",
       "      <td>0.0</td>\n",
       "      <td>0.0</td>\n",
       "      <td>0.05</td>\n",
       "      <td>0.011438</td>\n",
       "      <td>0.000000</td>\n",
       "      <td>0.0</td>\n",
       "      <td>0.000000</td>\n",
       "      <td>0.000000</td>\n",
       "      <td>0.0</td>\n",
       "      <td>0.0</td>\n",
       "      <td>0.333333</td>\n",
       "      <td>Moderate</td>\n",
       "    </tr>\n",
       "    <tr>\n",
       "      <th>2</th>\n",
       "      <td>0.121499</td>\n",
       "      <td>0.0</td>\n",
       "      <td>0.0</td>\n",
       "      <td>0.00</td>\n",
       "      <td>0.009259</td>\n",
       "      <td>0.000000</td>\n",
       "      <td>0.0</td>\n",
       "      <td>0.013889</td>\n",
       "      <td>0.000000</td>\n",
       "      <td>0.0</td>\n",
       "      <td>0.0</td>\n",
       "      <td>0.333333</td>\n",
       "      <td>Moderate</td>\n",
       "    </tr>\n",
       "    <tr>\n",
       "      <th>3</th>\n",
       "      <td>0.000000</td>\n",
       "      <td>0.0</td>\n",
       "      <td>0.0</td>\n",
       "      <td>0.00</td>\n",
       "      <td>0.000000</td>\n",
       "      <td>0.000000</td>\n",
       "      <td>0.0</td>\n",
       "      <td>0.000000</td>\n",
       "      <td>0.000000</td>\n",
       "      <td>0.0</td>\n",
       "      <td>0.0</td>\n",
       "      <td>0.000000</td>\n",
       "      <td>No_sales</td>\n",
       "    </tr>\n",
       "    <tr>\n",
       "      <th>4</th>\n",
       "      <td>0.000000</td>\n",
       "      <td>0.0</td>\n",
       "      <td>0.0</td>\n",
       "      <td>0.00</td>\n",
       "      <td>0.000000</td>\n",
       "      <td>0.000000</td>\n",
       "      <td>0.0</td>\n",
       "      <td>0.000000</td>\n",
       "      <td>0.000000</td>\n",
       "      <td>0.0</td>\n",
       "      <td>0.0</td>\n",
       "      <td>0.000000</td>\n",
       "      <td>No_sales</td>\n",
       "    </tr>\n",
       "    <tr>\n",
       "      <th>...</th>\n",
       "      <td>...</td>\n",
       "      <td>...</td>\n",
       "      <td>...</td>\n",
       "      <td>...</td>\n",
       "      <td>...</td>\n",
       "      <td>...</td>\n",
       "      <td>...</td>\n",
       "      <td>...</td>\n",
       "      <td>...</td>\n",
       "      <td>...</td>\n",
       "      <td>...</td>\n",
       "      <td>...</td>\n",
       "      <td>...</td>\n",
       "    </tr>\n",
       "    <tr>\n",
       "      <th>9933</th>\n",
       "      <td>0.000000</td>\n",
       "      <td>0.0</td>\n",
       "      <td>0.0</td>\n",
       "      <td>0.00</td>\n",
       "      <td>0.000000</td>\n",
       "      <td>0.000000</td>\n",
       "      <td>0.0</td>\n",
       "      <td>0.000000</td>\n",
       "      <td>0.000000</td>\n",
       "      <td>0.0</td>\n",
       "      <td>0.0</td>\n",
       "      <td>0.000000</td>\n",
       "      <td>No_sales</td>\n",
       "    </tr>\n",
       "    <tr>\n",
       "      <th>9934</th>\n",
       "      <td>0.000000</td>\n",
       "      <td>0.0</td>\n",
       "      <td>0.0</td>\n",
       "      <td>0.00</td>\n",
       "      <td>0.000000</td>\n",
       "      <td>0.000000</td>\n",
       "      <td>0.0</td>\n",
       "      <td>0.000000</td>\n",
       "      <td>0.000000</td>\n",
       "      <td>0.0</td>\n",
       "      <td>0.0</td>\n",
       "      <td>0.000000</td>\n",
       "      <td>No_sales</td>\n",
       "    </tr>\n",
       "    <tr>\n",
       "      <th>9935</th>\n",
       "      <td>0.000000</td>\n",
       "      <td>0.0</td>\n",
       "      <td>0.0</td>\n",
       "      <td>0.00</td>\n",
       "      <td>0.000000</td>\n",
       "      <td>0.000000</td>\n",
       "      <td>0.0</td>\n",
       "      <td>0.000000</td>\n",
       "      <td>0.000000</td>\n",
       "      <td>0.0</td>\n",
       "      <td>0.0</td>\n",
       "      <td>0.000000</td>\n",
       "      <td>No_sales</td>\n",
       "    </tr>\n",
       "    <tr>\n",
       "      <th>9936</th>\n",
       "      <td>0.000000</td>\n",
       "      <td>0.0</td>\n",
       "      <td>0.0</td>\n",
       "      <td>0.05</td>\n",
       "      <td>0.000000</td>\n",
       "      <td>0.052171</td>\n",
       "      <td>0.0</td>\n",
       "      <td>0.000000</td>\n",
       "      <td>0.000000</td>\n",
       "      <td>0.0</td>\n",
       "      <td>0.0</td>\n",
       "      <td>0.222222</td>\n",
       "      <td>Low</td>\n",
       "    </tr>\n",
       "    <tr>\n",
       "      <th>9937</th>\n",
       "      <td>0.000000</td>\n",
       "      <td>0.0</td>\n",
       "      <td>0.0</td>\n",
       "      <td>0.00</td>\n",
       "      <td>0.000000</td>\n",
       "      <td>0.000000</td>\n",
       "      <td>0.0</td>\n",
       "      <td>0.000000</td>\n",
       "      <td>0.000000</td>\n",
       "      <td>0.0</td>\n",
       "      <td>0.0</td>\n",
       "      <td>0.000000</td>\n",
       "      <td>No_sales</td>\n",
       "    </tr>\n",
       "  </tbody>\n",
       "</table>\n",
       "<p>9938 rows × 13 columns</p>\n",
       "</div>"
      ],
      "text/plain": [
       "        Brand1  Brand2  Brand3  ...  Brand12  Number of Brands  Category of Retailer\n",
       "0     0.000000     0.0     0.0  ...      0.0          0.111111                   Low\n",
       "1     0.048387     0.0     0.0  ...      0.0          0.333333              Moderate\n",
       "2     0.121499     0.0     0.0  ...      0.0          0.333333              Moderate\n",
       "3     0.000000     0.0     0.0  ...      0.0          0.000000              No_sales\n",
       "4     0.000000     0.0     0.0  ...      0.0          0.000000              No_sales\n",
       "...        ...     ...     ...  ...      ...               ...                   ...\n",
       "9933  0.000000     0.0     0.0  ...      0.0          0.000000              No_sales\n",
       "9934  0.000000     0.0     0.0  ...      0.0          0.000000              No_sales\n",
       "9935  0.000000     0.0     0.0  ...      0.0          0.000000              No_sales\n",
       "9936  0.000000     0.0     0.0  ...      0.0          0.222222                   Low\n",
       "9937  0.000000     0.0     0.0  ...      0.0          0.000000              No_sales\n",
       "\n",
       "[9938 rows x 13 columns]"
      ]
     },
     "execution_count": 6,
     "metadata": {
      "tags": []
     },
     "output_type": "execute_result"
    }
   ],
   "source": [
    "##Normalizing the dataset\n",
    "from sklearn.preprocessing import StandardScaler\n",
    "string_columns=['Brand1','Brand2','Brand3','Brand4','Brand5','Brand6','Brand8','Brand9','Brand10','Brand11','Brand12','Number of Brands']\n",
    "df_norm=df.copy()\n",
    "for i in string_columns:\n",
    "    df_norm[i] =norm_func(df_norm[i])\n",
    "df_norm"
   ]
  },
  {
   "cell_type": "markdown",
   "metadata": {
    "id": "sc4Hjq48rHLz"
   },
   "source": [
    "Retailers are classified namely retailer with 'NO SALES, retailers with 'LOW SALES',Retailers with 'MODERATE SALES'and Retailers with 'HIGH SALES'.\n",
    "They are encoded as no sales=1, high sales=2, moderate sales=0, high sales=2."
   ]
  },
  {
   "cell_type": "code",
   "execution_count": 7,
   "metadata": {
    "colab": {
     "base_uri": "https://localhost:8080/"
    },
    "id": "avGQag1fxYLi",
    "outputId": "8ff75a5e-85dd-40a7-eae4-d076e4786edb"
   },
   "outputs": [
    {
     "data": {
      "text/plain": [
       "No_sales    6449\n",
       "Low         2170\n",
       "Moderate     932\n",
       "High         387\n",
       "Name: Category of Retailer, dtype: int64"
      ]
     },
     "execution_count": 7,
     "metadata": {
      "tags": []
     },
     "output_type": "execute_result"
    }
   ],
   "source": [
    "df_norm['Category of Retailer'].value_counts()"
   ]
  },
  {
   "cell_type": "markdown",
   "metadata": {
    "id": "KSpv3dZSr5E8"
   },
   "source": [
    "Here, it is seen that the 4 classes are highly imbalanced. Thus, we use SMOTE algorithm and perform random sampling to avoid misclassifications."
   ]
  },
  {
   "cell_type": "code",
   "execution_count": 8,
   "metadata": {
    "id": "qs6YuGMhxYSI"
   },
   "outputs": [],
   "source": [
    "import imblearn\n",
    "from imblearn.over_sampling import SMOTE\n",
    "from sklearn.feature_extraction.text import TfidfVectorizer\n",
    "from sklearn.model_selection import train_test_split\n",
    "from sklearn.linear_model import SGDClassifier\n",
    "from sklearn.metrics import accuracy_score\n",
    "from sklearn.metrics import classification_report\n",
    "from sklearn.metrics import confusion_matrix\n",
    "from sklearn import datasets\n",
    "from sklearn import model_selection\n",
    "from sklearn import linear_model\n",
    "from sklearn import metrics\n",
    "from sklearn.multiclass import OneVsRestClassifier\n",
    "from sklearn.linear_model import LogisticRegression"
   ]
  },
  {
   "cell_type": "code",
   "execution_count": 9,
   "metadata": {
    "colab": {
     "base_uri": "https://localhost:8080/",
     "height": 407
    },
    "id": "plckZIB03RWM",
    "outputId": "84f52cd1-6fd8-437d-93df-47fb4e3b12b9"
   },
   "outputs": [
    {
     "data": {
      "text/html": [
       "<div>\n",
       "<style scoped>\n",
       "    .dataframe tbody tr th:only-of-type {\n",
       "        vertical-align: middle;\n",
       "    }\n",
       "\n",
       "    .dataframe tbody tr th {\n",
       "        vertical-align: top;\n",
       "    }\n",
       "\n",
       "    .dataframe thead th {\n",
       "        text-align: right;\n",
       "    }\n",
       "</style>\n",
       "<table border=\"1\" class=\"dataframe\">\n",
       "  <thead>\n",
       "    <tr style=\"text-align: right;\">\n",
       "      <th></th>\n",
       "      <th>Brand1</th>\n",
       "      <th>Brand2</th>\n",
       "      <th>Brand3</th>\n",
       "      <th>Brand4</th>\n",
       "      <th>Brand5</th>\n",
       "      <th>Brand6</th>\n",
       "      <th>Brand8</th>\n",
       "      <th>Brand9</th>\n",
       "      <th>Brand10</th>\n",
       "      <th>Brand11</th>\n",
       "      <th>Brand12</th>\n",
       "      <th>Number of Brands</th>\n",
       "    </tr>\n",
       "  </thead>\n",
       "  <tbody>\n",
       "    <tr>\n",
       "      <th>0</th>\n",
       "      <td>0.000000</td>\n",
       "      <td>0.0</td>\n",
       "      <td>0.0</td>\n",
       "      <td>0.00</td>\n",
       "      <td>0.000000</td>\n",
       "      <td>0.000000</td>\n",
       "      <td>0.0</td>\n",
       "      <td>0.000000</td>\n",
       "      <td>0.212293</td>\n",
       "      <td>0.0</td>\n",
       "      <td>0.0</td>\n",
       "      <td>0.111111</td>\n",
       "    </tr>\n",
       "    <tr>\n",
       "      <th>1</th>\n",
       "      <td>0.048387</td>\n",
       "      <td>0.0</td>\n",
       "      <td>0.0</td>\n",
       "      <td>0.05</td>\n",
       "      <td>0.011438</td>\n",
       "      <td>0.000000</td>\n",
       "      <td>0.0</td>\n",
       "      <td>0.000000</td>\n",
       "      <td>0.000000</td>\n",
       "      <td>0.0</td>\n",
       "      <td>0.0</td>\n",
       "      <td>0.333333</td>\n",
       "    </tr>\n",
       "    <tr>\n",
       "      <th>2</th>\n",
       "      <td>0.121499</td>\n",
       "      <td>0.0</td>\n",
       "      <td>0.0</td>\n",
       "      <td>0.00</td>\n",
       "      <td>0.009259</td>\n",
       "      <td>0.000000</td>\n",
       "      <td>0.0</td>\n",
       "      <td>0.013889</td>\n",
       "      <td>0.000000</td>\n",
       "      <td>0.0</td>\n",
       "      <td>0.0</td>\n",
       "      <td>0.333333</td>\n",
       "    </tr>\n",
       "    <tr>\n",
       "      <th>3</th>\n",
       "      <td>0.000000</td>\n",
       "      <td>0.0</td>\n",
       "      <td>0.0</td>\n",
       "      <td>0.00</td>\n",
       "      <td>0.000000</td>\n",
       "      <td>0.000000</td>\n",
       "      <td>0.0</td>\n",
       "      <td>0.000000</td>\n",
       "      <td>0.000000</td>\n",
       "      <td>0.0</td>\n",
       "      <td>0.0</td>\n",
       "      <td>0.000000</td>\n",
       "    </tr>\n",
       "    <tr>\n",
       "      <th>4</th>\n",
       "      <td>0.000000</td>\n",
       "      <td>0.0</td>\n",
       "      <td>0.0</td>\n",
       "      <td>0.00</td>\n",
       "      <td>0.000000</td>\n",
       "      <td>0.000000</td>\n",
       "      <td>0.0</td>\n",
       "      <td>0.000000</td>\n",
       "      <td>0.000000</td>\n",
       "      <td>0.0</td>\n",
       "      <td>0.0</td>\n",
       "      <td>0.000000</td>\n",
       "    </tr>\n",
       "    <tr>\n",
       "      <th>...</th>\n",
       "      <td>...</td>\n",
       "      <td>...</td>\n",
       "      <td>...</td>\n",
       "      <td>...</td>\n",
       "      <td>...</td>\n",
       "      <td>...</td>\n",
       "      <td>...</td>\n",
       "      <td>...</td>\n",
       "      <td>...</td>\n",
       "      <td>...</td>\n",
       "      <td>...</td>\n",
       "      <td>...</td>\n",
       "    </tr>\n",
       "    <tr>\n",
       "      <th>9933</th>\n",
       "      <td>0.000000</td>\n",
       "      <td>0.0</td>\n",
       "      <td>0.0</td>\n",
       "      <td>0.00</td>\n",
       "      <td>0.000000</td>\n",
       "      <td>0.000000</td>\n",
       "      <td>0.0</td>\n",
       "      <td>0.000000</td>\n",
       "      <td>0.000000</td>\n",
       "      <td>0.0</td>\n",
       "      <td>0.0</td>\n",
       "      <td>0.000000</td>\n",
       "    </tr>\n",
       "    <tr>\n",
       "      <th>9934</th>\n",
       "      <td>0.000000</td>\n",
       "      <td>0.0</td>\n",
       "      <td>0.0</td>\n",
       "      <td>0.00</td>\n",
       "      <td>0.000000</td>\n",
       "      <td>0.000000</td>\n",
       "      <td>0.0</td>\n",
       "      <td>0.000000</td>\n",
       "      <td>0.000000</td>\n",
       "      <td>0.0</td>\n",
       "      <td>0.0</td>\n",
       "      <td>0.000000</td>\n",
       "    </tr>\n",
       "    <tr>\n",
       "      <th>9935</th>\n",
       "      <td>0.000000</td>\n",
       "      <td>0.0</td>\n",
       "      <td>0.0</td>\n",
       "      <td>0.00</td>\n",
       "      <td>0.000000</td>\n",
       "      <td>0.000000</td>\n",
       "      <td>0.0</td>\n",
       "      <td>0.000000</td>\n",
       "      <td>0.000000</td>\n",
       "      <td>0.0</td>\n",
       "      <td>0.0</td>\n",
       "      <td>0.000000</td>\n",
       "    </tr>\n",
       "    <tr>\n",
       "      <th>9936</th>\n",
       "      <td>0.000000</td>\n",
       "      <td>0.0</td>\n",
       "      <td>0.0</td>\n",
       "      <td>0.05</td>\n",
       "      <td>0.000000</td>\n",
       "      <td>0.052171</td>\n",
       "      <td>0.0</td>\n",
       "      <td>0.000000</td>\n",
       "      <td>0.000000</td>\n",
       "      <td>0.0</td>\n",
       "      <td>0.0</td>\n",
       "      <td>0.222222</td>\n",
       "    </tr>\n",
       "    <tr>\n",
       "      <th>9937</th>\n",
       "      <td>0.000000</td>\n",
       "      <td>0.0</td>\n",
       "      <td>0.0</td>\n",
       "      <td>0.00</td>\n",
       "      <td>0.000000</td>\n",
       "      <td>0.000000</td>\n",
       "      <td>0.0</td>\n",
       "      <td>0.000000</td>\n",
       "      <td>0.000000</td>\n",
       "      <td>0.0</td>\n",
       "      <td>0.0</td>\n",
       "      <td>0.000000</td>\n",
       "    </tr>\n",
       "  </tbody>\n",
       "</table>\n",
       "<p>9938 rows × 12 columns</p>\n",
       "</div>"
      ],
      "text/plain": [
       "        Brand1  Brand2  Brand3  ...  Brand11  Brand12  Number of Brands\n",
       "0     0.000000     0.0     0.0  ...      0.0      0.0          0.111111\n",
       "1     0.048387     0.0     0.0  ...      0.0      0.0          0.333333\n",
       "2     0.121499     0.0     0.0  ...      0.0      0.0          0.333333\n",
       "3     0.000000     0.0     0.0  ...      0.0      0.0          0.000000\n",
       "4     0.000000     0.0     0.0  ...      0.0      0.0          0.000000\n",
       "...        ...     ...     ...  ...      ...      ...               ...\n",
       "9933  0.000000     0.0     0.0  ...      0.0      0.0          0.000000\n",
       "9934  0.000000     0.0     0.0  ...      0.0      0.0          0.000000\n",
       "9935  0.000000     0.0     0.0  ...      0.0      0.0          0.000000\n",
       "9936  0.000000     0.0     0.0  ...      0.0      0.0          0.222222\n",
       "9937  0.000000     0.0     0.0  ...      0.0      0.0          0.000000\n",
       "\n",
       "[9938 rows x 12 columns]"
      ]
     },
     "execution_count": 9,
     "metadata": {
      "tags": []
     },
     "output_type": "execute_result"
    }
   ],
   "source": [
    "y = df_norm['Category of Retailer'] \n",
    "x = df_norm.drop(['Category of Retailer'], axis=1) #drop y label\n",
    "x"
   ]
  },
  {
   "cell_type": "code",
   "execution_count": 10,
   "metadata": {
    "colab": {
     "base_uri": "https://localhost:8080/"
    },
    "id": "QNFca9D53tvr",
    "outputId": "24743135-dabb-49b9-d878-daea3697def6"
   },
   "outputs": [
    {
     "name": "stdout",
     "output_type": "stream",
     "text": [
      "(9938, 12) (9938,)\n"
     ]
    }
   ],
   "source": [
    "print(x.shape, y.shape)"
   ]
  },
  {
   "cell_type": "code",
   "execution_count": 11,
   "metadata": {
    "colab": {
     "base_uri": "https://localhost:8080/"
    },
    "id": "-0zf0ZxEHDal",
    "outputId": "9afffd8d-e879-43c4-d42e-1a20e8dc6f89"
   },
   "outputs": [
    {
     "name": "stdout",
     "output_type": "stream",
     "text": [
      "(6956, 12) (6956,)\n",
      "(2982, 12) (2982,)\n"
     ]
    }
   ],
   "source": [
    "#x=df_norm.drop(['Category of Retailer'],axis=1)\n",
    "#y=df_norm['Category of Retailer']\n",
    "os = SMOTE(random_state=0)\n",
    "x_train, x_test, y_train, y_test = train_test_split(x, y, test_size=0.3,stratify=y)\n",
    "\n",
    "print(x_train.shape, y_train.shape)\n",
    "print(x_test.shape, y_test.shape)"
   ]
  },
  {
   "cell_type": "code",
   "execution_count": 12,
   "metadata": {
    "id": "gQncCp094kht"
   },
   "outputs": [],
   "source": [
    "#Applying SMOTE oversampling technique to handle imbalanced class labels of dependent variable\n",
    "columns = x_train.columns\n",
    "os_train_x,os_train_y = os.fit_resample(x_train, y_train)\n",
    "os_test_x,os_test_y = os.fit_resample(x_test, y_test)\n",
    "os_train_X = pd.DataFrame(data=os_train_x,columns=columns )\n",
    "os_train_Y= pd.DataFrame(data=os_train_y,columns=['y_actual'])\n",
    "os_test_X = pd.DataFrame(data=os_test_x,columns=columns )\n",
    "os_test_Y = pd.DataFrame(data=os_test_y,columns=['y_actual'])"
   ]
  },
  {
   "cell_type": "code",
   "execution_count": 13,
   "metadata": {
    "colab": {
     "base_uri": "https://localhost:8080/"
    },
    "id": "KmnuHak2NnIO",
    "outputId": "35c70764-d6ac-4ed4-bb54-c6f39e8c122a"
   },
   "outputs": [
    {
     "name": "stdout",
     "output_type": "stream",
     "text": [
      "(18056, 12) (18056, 1)\n",
      "(7740, 12) (7740, 1)\n"
     ]
    }
   ],
   "source": [
    "print(os_train_X.shape, os_train_Y.shape)\n",
    "print(os_test_X.shape, os_test_Y.shape)"
   ]
  },
  {
   "cell_type": "code",
   "execution_count": 14,
   "metadata": {
    "colab": {
     "base_uri": "https://localhost:8080/"
    },
    "id": "YqDGzkwJOX66",
    "outputId": "903eb6c4-793b-4fdd-902a-853e2e7e1907"
   },
   "outputs": [
    {
     "name": "stdout",
     "output_type": "stream",
     "text": [
      "<class 'pandas.core.frame.DataFrame'>\n",
      "RangeIndex: 7740 entries, 0 to 7739\n",
      "Data columns (total 1 columns):\n",
      " #   Column    Non-Null Count  Dtype \n",
      "---  ------    --------------  ----- \n",
      " 0   y_actual  7740 non-null   object\n",
      "dtypes: object(1)\n",
      "memory usage: 60.6+ KB\n"
     ]
    }
   ],
   "source": [
    "os_test_Y.info()"
   ]
  },
  {
   "cell_type": "code",
   "execution_count": 15,
   "metadata": {
    "colab": {
     "base_uri": "https://localhost:8080/"
    },
    "id": "nchXccgfHDeO",
    "outputId": "a41e9280-dbd5-4631-b591-0a401579b998"
   },
   "outputs": [
    {
     "name": "stdout",
     "output_type": "stream",
     "text": [
      "Original dataset shape :  No_sales    6449\n",
      "Low         2170\n",
      "Moderate     932\n",
      "High         387\n",
      "Name: Category of Retailer, dtype: int64\n",
      "Resampled dataset shape :  y_actual\n",
      "No_sales    1935\n",
      "Moderate    1935\n",
      "Low         1935\n",
      "High        1935\n",
      "dtype: int64\n"
     ]
    }
   ],
   "source": [
    "print('Original dataset shape : ',y.value_counts())\n",
    "print('Resampled dataset shape : ', os_test_Y.value_counts())"
   ]
  },
  {
   "cell_type": "markdown",
   "metadata": {
    "id": "9XGZJR0oy_Ap"
   },
   "source": [
    "Here, initially the classes were highly imbalanced. Using smote algorithm all classes have been brought to same sizes"
   ]
  },
  {
   "cell_type": "code",
   "execution_count": 16,
   "metadata": {
    "id": "1Ckz2Ve6Bnne"
   },
   "outputs": [],
   "source": [
    "from sklearn.metrics import roc_auc_score\n",
    "from sklearn.metrics import roc_curve, auc\n",
    "from sklearn.preprocessing import label_binarize\n",
    "from sklearn import preprocessing\n",
    "from sklearn.preprocessing import LabelEncoder\n",
    "from scipy import interp\n",
    "from sklearn.ensemble import GradientBoostingClassifier\n",
    "from sklearn.linear_model import LogisticRegression\n",
    "from sklearn.linear_model import SGDClassifier\n",
    "from sklearn.model_selection import RandomizedSearchCV"
   ]
  },
  {
   "cell_type": "code",
   "execution_count": 24,
   "metadata": {
    "id": "ICPgLfxMBn8K"
   },
   "outputs": [],
   "source": [
    "sgd=SGDClassifier()\n",
    "grid = {\n",
    "    'alpha': [1e-4, 1e-3, 1e-2, 1e-1, 1e0, 1e1, 1e2, 1e3],\n",
    "    'max_iter': [100,500,1000], \n",
    "    'loss': ['log'], # logistic regression,\n",
    "    'penalty': ['l2'],\n",
    "    }\n",
    "\n",
    "sgd_cv=RandomizedSearchCV(sgd,grid,cv=10,return_train_score=True,n_jobs=5,verbose=10)"
   ]
  },
  {
   "cell_type": "code",
   "execution_count": 25,
   "metadata": {
    "colab": {
     "base_uri": "https://localhost:8080/"
    },
    "id": "DfPV0NuR6Yct",
    "outputId": "c6396676-5225-49f3-87a9-6eb5032b4e9a"
   },
   "outputs": [
    {
     "name": "stdout",
     "output_type": "stream",
     "text": [
      "Fitting 10 folds for each of 10 candidates, totalling 100 fits\n"
     ]
    },
    {
     "name": "stderr",
     "output_type": "stream",
     "text": [
      "[Parallel(n_jobs=5)]: Using backend LokyBackend with 5 concurrent workers.\n",
      "[Parallel(n_jobs=5)]: Done   3 tasks      | elapsed:    0.6s\n",
      "[Parallel(n_jobs=5)]: Done   8 tasks      | elapsed:    1.2s\n",
      "[Parallel(n_jobs=5)]: Done  15 tasks      | elapsed:    2.0s\n",
      "[Parallel(n_jobs=5)]: Done  22 tasks      | elapsed:    3.0s\n",
      "[Parallel(n_jobs=5)]: Done  31 tasks      | elapsed:    4.1s\n",
      "[Parallel(n_jobs=5)]: Done  40 tasks      | elapsed:    5.0s\n",
      "[Parallel(n_jobs=5)]: Done  51 tasks      | elapsed:    6.1s\n",
      "[Parallel(n_jobs=5)]: Done  62 tasks      | elapsed:    7.4s\n",
      "[Parallel(n_jobs=5)]: Done  75 tasks      | elapsed:    8.9s\n",
      "[Parallel(n_jobs=5)]: Done  88 tasks      | elapsed:   10.0s\n",
      "[Parallel(n_jobs=5)]: Done 100 out of 100 | elapsed:   11.0s finished\n"
     ]
    },
    {
     "data": {
      "text/plain": [
       "RandomizedSearchCV(cv=10, error_score=nan,\n",
       "                   estimator=SGDClassifier(alpha=0.0001, average=False,\n",
       "                                           class_weight=None,\n",
       "                                           early_stopping=False, epsilon=0.1,\n",
       "                                           eta0=0.0, fit_intercept=True,\n",
       "                                           l1_ratio=0.15,\n",
       "                                           learning_rate='optimal',\n",
       "                                           loss='hinge', max_iter=1000,\n",
       "                                           n_iter_no_change=5, n_jobs=None,\n",
       "                                           penalty='l2', power_t=0.5,\n",
       "                                           random_state=None, shuffle=True,\n",
       "                                           tol=0.001, validation_fraction=0.1,\n",
       "                                           verbose=0, warm_start=False),\n",
       "                   iid='deprecated', n_iter=10, n_jobs=5,\n",
       "                   param_distributions={'alpha': [0.0001, 0.001, 0.01, 0.1, 1.0,\n",
       "                                                  10.0, 100.0, 1000.0],\n",
       "                                        'loss': ['log'],\n",
       "                                        'max_iter': [100, 500, 1000],\n",
       "                                        'penalty': ['l2']},\n",
       "                   pre_dispatch='2*n_jobs', random_state=None, refit=True,\n",
       "                   return_train_score=True, scoring=None, verbose=10)"
      ]
     },
     "execution_count": 25,
     "metadata": {
      "tags": []
     },
     "output_type": "execute_result"
    }
   ],
   "source": [
    "sgd_cv.fit(os_train_X,os_train_Y)"
   ]
  },
  {
   "cell_type": "code",
   "execution_count": 18,
   "metadata": {
    "id": "vNKEOTPcGosm"
   },
   "outputs": [],
   "source": []
  },
  {
   "cell_type": "code",
   "execution_count": 26,
   "metadata": {
    "colab": {
     "base_uri": "https://localhost:8080/"
    },
    "id": "0RaE7-AM6pME",
    "outputId": "0f7d34c1-a2ac-41e3-a53f-98e0fc85a5a0"
   },
   "outputs": [
    {
     "data": {
      "text/plain": [
       "{'alpha': 0.0001, 'loss': 'log', 'max_iter': 500, 'penalty': 'l2'}"
      ]
     },
     "execution_count": 26,
     "metadata": {
      "tags": []
     },
     "output_type": "execute_result"
    }
   ],
   "source": [
    "sgd_cv.best_params_"
   ]
  },
  {
   "cell_type": "markdown",
   "metadata": {
    "id": "aHCI60k9HYMo"
   },
   "source": []
  },
  {
   "cell_type": "markdown",
   "metadata": {
    "id": "9I8zFkbvXt00"
   },
   "source": [
    "Best value of alpha obtained after running RandomizedSearchCV "
   ]
  },
  {
   "cell_type": "code",
   "execution_count": 27,
   "metadata": {
    "colab": {
     "base_uri": "https://localhost:8080/"
    },
    "id": "PTYtxvGp60BW",
    "outputId": "656e2513-bfa5-43ed-99bd-822d04eebd51"
   },
   "outputs": [
    {
     "data": {
      "text/plain": [
       "0.9755202571913258"
      ]
     },
     "execution_count": 27,
     "metadata": {
      "tags": []
     },
     "output_type": "execute_result"
    }
   ],
   "source": [
    "sgd_cv.best_score_"
   ]
  },
  {
   "cell_type": "markdown",
   "metadata": {
    "id": "D_5CBP6-X4BP"
   },
   "source": [
    "Maximum accuarcy of 81% obtained after running RandomizedSearchCV with best parameters for SGD classifier"
   ]
  },
  {
   "cell_type": "code",
   "execution_count": 28,
   "metadata": {
    "colab": {
     "base_uri": "https://localhost:8080/",
     "height": 1000
    },
    "id": "KqosVBtF6-uL",
    "outputId": "632925f0-3d55-4eec-b799-f49bbc52f1cb"
   },
   "outputs": [
    {
     "data": {
      "text/html": [
       "<div>\n",
       "<style scoped>\n",
       "    .dataframe tbody tr th:only-of-type {\n",
       "        vertical-align: middle;\n",
       "    }\n",
       "\n",
       "    .dataframe tbody tr th {\n",
       "        vertical-align: top;\n",
       "    }\n",
       "\n",
       "    .dataframe thead th {\n",
       "        text-align: right;\n",
       "    }\n",
       "</style>\n",
       "<table border=\"1\" class=\"dataframe\">\n",
       "  <thead>\n",
       "    <tr style=\"text-align: right;\">\n",
       "      <th></th>\n",
       "      <th>mean_fit_time</th>\n",
       "      <th>std_fit_time</th>\n",
       "      <th>mean_score_time</th>\n",
       "      <th>std_score_time</th>\n",
       "      <th>param_penalty</th>\n",
       "      <th>param_max_iter</th>\n",
       "      <th>param_loss</th>\n",
       "      <th>param_alpha</th>\n",
       "      <th>params</th>\n",
       "      <th>split0_test_score</th>\n",
       "      <th>split1_test_score</th>\n",
       "      <th>split2_test_score</th>\n",
       "      <th>split3_test_score</th>\n",
       "      <th>split4_test_score</th>\n",
       "      <th>split5_test_score</th>\n",
       "      <th>split6_test_score</th>\n",
       "      <th>split7_test_score</th>\n",
       "      <th>split8_test_score</th>\n",
       "      <th>split9_test_score</th>\n",
       "      <th>mean_test_score</th>\n",
       "      <th>std_test_score</th>\n",
       "      <th>rank_test_score</th>\n",
       "      <th>split0_train_score</th>\n",
       "      <th>split1_train_score</th>\n",
       "      <th>split2_train_score</th>\n",
       "      <th>split3_train_score</th>\n",
       "      <th>split4_train_score</th>\n",
       "      <th>split5_train_score</th>\n",
       "      <th>split6_train_score</th>\n",
       "      <th>split7_train_score</th>\n",
       "      <th>split8_train_score</th>\n",
       "      <th>split9_train_score</th>\n",
       "      <th>mean_train_score</th>\n",
       "      <th>std_train_score</th>\n",
       "    </tr>\n",
       "  </thead>\n",
       "  <tbody>\n",
       "    <tr>\n",
       "      <th>0</th>\n",
       "      <td>0.485886</td>\n",
       "      <td>0.061661</td>\n",
       "      <td>0.011888</td>\n",
       "      <td>0.006083</td>\n",
       "      <td>l2</td>\n",
       "      <td>500</td>\n",
       "      <td>log</td>\n",
       "      <td>10</td>\n",
       "      <td>{'penalty': 'l2', 'max_iter': 500, 'loss': 'lo...</td>\n",
       "      <td>0.249723</td>\n",
       "      <td>0.500000</td>\n",
       "      <td>0.249723</td>\n",
       "      <td>0.250277</td>\n",
       "      <td>0.249723</td>\n",
       "      <td>0.250277</td>\n",
       "      <td>0.250416</td>\n",
       "      <td>0.250416</td>\n",
       "      <td>0.250416</td>\n",
       "      <td>0.250416</td>\n",
       "      <td>0.275139</td>\n",
       "      <td>0.074954</td>\n",
       "      <td>6</td>\n",
       "      <td>0.250031</td>\n",
       "      <td>0.500000</td>\n",
       "      <td>0.250031</td>\n",
       "      <td>0.249969</td>\n",
       "      <td>0.250031</td>\n",
       "      <td>0.249969</td>\n",
       "      <td>0.249954</td>\n",
       "      <td>0.249954</td>\n",
       "      <td>0.249954</td>\n",
       "      <td>0.249954</td>\n",
       "      <td>0.274985</td>\n",
       "      <td>0.075005</td>\n",
       "    </tr>\n",
       "    <tr>\n",
       "      <th>1</th>\n",
       "      <td>0.592875</td>\n",
       "      <td>0.052772</td>\n",
       "      <td>0.008855</td>\n",
       "      <td>0.005537</td>\n",
       "      <td>l2</td>\n",
       "      <td>500</td>\n",
       "      <td>log</td>\n",
       "      <td>0.0001</td>\n",
       "      <td>{'penalty': 'l2', 'max_iter': 500, 'loss': 'lo...</td>\n",
       "      <td>0.982835</td>\n",
       "      <td>0.981728</td>\n",
       "      <td>0.984496</td>\n",
       "      <td>0.954596</td>\n",
       "      <td>0.970653</td>\n",
       "      <td>0.985050</td>\n",
       "      <td>0.985042</td>\n",
       "      <td>0.960111</td>\n",
       "      <td>0.988920</td>\n",
       "      <td>0.961773</td>\n",
       "      <td>0.975520</td>\n",
       "      <td>0.011923</td>\n",
       "      <td>1</td>\n",
       "      <td>0.985231</td>\n",
       "      <td>0.985477</td>\n",
       "      <td>0.985046</td>\n",
       "      <td>0.956431</td>\n",
       "      <td>0.978708</td>\n",
       "      <td>0.985231</td>\n",
       "      <td>0.980063</td>\n",
       "      <td>0.960741</td>\n",
       "      <td>0.987016</td>\n",
       "      <td>0.957541</td>\n",
       "      <td>0.976148</td>\n",
       "      <td>0.012015</td>\n",
       "    </tr>\n",
       "    <tr>\n",
       "      <th>2</th>\n",
       "      <td>0.414825</td>\n",
       "      <td>0.041471</td>\n",
       "      <td>0.015024</td>\n",
       "      <td>0.005975</td>\n",
       "      <td>l2</td>\n",
       "      <td>1000</td>\n",
       "      <td>log</td>\n",
       "      <td>1</td>\n",
       "      <td>{'penalty': 'l2', 'max_iter': 1000, 'loss': 'l...</td>\n",
       "      <td>0.250277</td>\n",
       "      <td>0.249723</td>\n",
       "      <td>0.497785</td>\n",
       "      <td>0.400332</td>\n",
       "      <td>0.249723</td>\n",
       "      <td>0.372093</td>\n",
       "      <td>0.249861</td>\n",
       "      <td>0.250416</td>\n",
       "      <td>0.393352</td>\n",
       "      <td>0.500277</td>\n",
       "      <td>0.341384</td>\n",
       "      <td>0.099289</td>\n",
       "      <td>5</td>\n",
       "      <td>0.249969</td>\n",
       "      <td>0.250031</td>\n",
       "      <td>0.498215</td>\n",
       "      <td>0.391692</td>\n",
       "      <td>0.250031</td>\n",
       "      <td>0.376308</td>\n",
       "      <td>0.250015</td>\n",
       "      <td>0.249954</td>\n",
       "      <td>0.395422</td>\n",
       "      <td>0.499969</td>\n",
       "      <td>0.341161</td>\n",
       "      <td>0.099081</td>\n",
       "    </tr>\n",
       "    <tr>\n",
       "      <th>3</th>\n",
       "      <td>0.510780</td>\n",
       "      <td>0.041016</td>\n",
       "      <td>0.010269</td>\n",
       "      <td>0.003590</td>\n",
       "      <td>l2</td>\n",
       "      <td>1000</td>\n",
       "      <td>log</td>\n",
       "      <td>10</td>\n",
       "      <td>{'penalty': 'l2', 'max_iter': 1000, 'loss': 'l...</td>\n",
       "      <td>0.249723</td>\n",
       "      <td>0.249723</td>\n",
       "      <td>0.250277</td>\n",
       "      <td>0.250277</td>\n",
       "      <td>0.249723</td>\n",
       "      <td>0.249723</td>\n",
       "      <td>0.249861</td>\n",
       "      <td>0.250416</td>\n",
       "      <td>0.249861</td>\n",
       "      <td>0.250416</td>\n",
       "      <td>0.250000</td>\n",
       "      <td>0.000290</td>\n",
       "      <td>9</td>\n",
       "      <td>0.250031</td>\n",
       "      <td>0.250031</td>\n",
       "      <td>0.249969</td>\n",
       "      <td>0.249969</td>\n",
       "      <td>0.250154</td>\n",
       "      <td>0.250031</td>\n",
       "      <td>0.250015</td>\n",
       "      <td>0.249954</td>\n",
       "      <td>0.250015</td>\n",
       "      <td>0.249954</td>\n",
       "      <td>0.250012</td>\n",
       "      <td>0.000056</td>\n",
       "    </tr>\n",
       "    <tr>\n",
       "      <th>4</th>\n",
       "      <td>0.436784</td>\n",
       "      <td>0.036952</td>\n",
       "      <td>0.012380</td>\n",
       "      <td>0.006391</td>\n",
       "      <td>l2</td>\n",
       "      <td>100</td>\n",
       "      <td>log</td>\n",
       "      <td>0.01</td>\n",
       "      <td>{'penalty': 'l2', 'max_iter': 100, 'loss': 'lo...</td>\n",
       "      <td>0.688815</td>\n",
       "      <td>0.717608</td>\n",
       "      <td>0.677741</td>\n",
       "      <td>0.718162</td>\n",
       "      <td>0.728128</td>\n",
       "      <td>0.722038</td>\n",
       "      <td>0.698615</td>\n",
       "      <td>0.734626</td>\n",
       "      <td>0.726870</td>\n",
       "      <td>0.735180</td>\n",
       "      <td>0.714778</td>\n",
       "      <td>0.018745</td>\n",
       "      <td>3</td>\n",
       "      <td>0.679446</td>\n",
       "      <td>0.724862</td>\n",
       "      <td>0.679631</td>\n",
       "      <td>0.718769</td>\n",
       "      <td>0.727385</td>\n",
       "      <td>0.726892</td>\n",
       "      <td>0.711772</td>\n",
       "      <td>0.726355</td>\n",
       "      <td>0.727278</td>\n",
       "      <td>0.724878</td>\n",
       "      <td>0.714727</td>\n",
       "      <td>0.018189</td>\n",
       "    </tr>\n",
       "    <tr>\n",
       "      <th>5</th>\n",
       "      <td>0.387487</td>\n",
       "      <td>0.034974</td>\n",
       "      <td>0.012601</td>\n",
       "      <td>0.008446</td>\n",
       "      <td>l2</td>\n",
       "      <td>500</td>\n",
       "      <td>log</td>\n",
       "      <td>1000</td>\n",
       "      <td>{'penalty': 'l2', 'max_iter': 500, 'loss': 'lo...</td>\n",
       "      <td>0.249723</td>\n",
       "      <td>0.249723</td>\n",
       "      <td>0.249723</td>\n",
       "      <td>0.250277</td>\n",
       "      <td>0.249723</td>\n",
       "      <td>0.249723</td>\n",
       "      <td>0.249861</td>\n",
       "      <td>0.249861</td>\n",
       "      <td>0.250416</td>\n",
       "      <td>0.249861</td>\n",
       "      <td>0.249889</td>\n",
       "      <td>0.000238</td>\n",
       "      <td>10</td>\n",
       "      <td>0.250031</td>\n",
       "      <td>0.250031</td>\n",
       "      <td>0.250031</td>\n",
       "      <td>0.249969</td>\n",
       "      <td>0.250031</td>\n",
       "      <td>0.250031</td>\n",
       "      <td>0.250015</td>\n",
       "      <td>0.250015</td>\n",
       "      <td>0.249954</td>\n",
       "      <td>0.250015</td>\n",
       "      <td>0.250012</td>\n",
       "      <td>0.000026</td>\n",
       "    </tr>\n",
       "    <tr>\n",
       "      <th>6</th>\n",
       "      <td>0.576764</td>\n",
       "      <td>0.040114</td>\n",
       "      <td>0.011121</td>\n",
       "      <td>0.005260</td>\n",
       "      <td>l2</td>\n",
       "      <td>100</td>\n",
       "      <td>log</td>\n",
       "      <td>0.0001</td>\n",
       "      <td>{'penalty': 'l2', 'max_iter': 100, 'loss': 'lo...</td>\n",
       "      <td>0.945183</td>\n",
       "      <td>0.981728</td>\n",
       "      <td>0.970100</td>\n",
       "      <td>0.986157</td>\n",
       "      <td>0.924695</td>\n",
       "      <td>0.987818</td>\n",
       "      <td>0.930194</td>\n",
       "      <td>0.961219</td>\n",
       "      <td>0.988920</td>\n",
       "      <td>0.985596</td>\n",
       "      <td>0.966161</td>\n",
       "      <td>0.023452</td>\n",
       "      <td>2</td>\n",
       "      <td>0.949723</td>\n",
       "      <td>0.984615</td>\n",
       "      <td>0.968554</td>\n",
       "      <td>0.982338</td>\n",
       "      <td>0.920062</td>\n",
       "      <td>0.984492</td>\n",
       "      <td>0.920436</td>\n",
       "      <td>0.968248</td>\n",
       "      <td>0.986401</td>\n",
       "      <td>0.986155</td>\n",
       "      <td>0.965102</td>\n",
       "      <td>0.024965</td>\n",
       "    </tr>\n",
       "    <tr>\n",
       "      <th>7</th>\n",
       "      <td>0.370012</td>\n",
       "      <td>0.028628</td>\n",
       "      <td>0.011484</td>\n",
       "      <td>0.005211</td>\n",
       "      <td>l2</td>\n",
       "      <td>1000</td>\n",
       "      <td>log</td>\n",
       "      <td>1000</td>\n",
       "      <td>{'penalty': 'l2', 'max_iter': 1000, 'loss': 'l...</td>\n",
       "      <td>0.249723</td>\n",
       "      <td>0.250277</td>\n",
       "      <td>0.249723</td>\n",
       "      <td>0.422481</td>\n",
       "      <td>0.249723</td>\n",
       "      <td>0.250277</td>\n",
       "      <td>0.259834</td>\n",
       "      <td>0.249861</td>\n",
       "      <td>0.249861</td>\n",
       "      <td>0.249861</td>\n",
       "      <td>0.268162</td>\n",
       "      <td>0.051525</td>\n",
       "      <td>7</td>\n",
       "      <td>0.250031</td>\n",
       "      <td>0.249969</td>\n",
       "      <td>0.250031</td>\n",
       "      <td>0.416677</td>\n",
       "      <td>0.250031</td>\n",
       "      <td>0.249969</td>\n",
       "      <td>0.259123</td>\n",
       "      <td>0.250015</td>\n",
       "      <td>0.250015</td>\n",
       "      <td>0.250015</td>\n",
       "      <td>0.267588</td>\n",
       "      <td>0.049771</td>\n",
       "    </tr>\n",
       "    <tr>\n",
       "      <th>8</th>\n",
       "      <td>0.385606</td>\n",
       "      <td>0.024013</td>\n",
       "      <td>0.010474</td>\n",
       "      <td>0.005462</td>\n",
       "      <td>l2</td>\n",
       "      <td>1000</td>\n",
       "      <td>log</td>\n",
       "      <td>100</td>\n",
       "      <td>{'penalty': 'l2', 'max_iter': 1000, 'loss': 'l...</td>\n",
       "      <td>0.250277</td>\n",
       "      <td>0.250277</td>\n",
       "      <td>0.249723</td>\n",
       "      <td>0.249723</td>\n",
       "      <td>0.250277</td>\n",
       "      <td>0.250277</td>\n",
       "      <td>0.249861</td>\n",
       "      <td>0.250416</td>\n",
       "      <td>0.249861</td>\n",
       "      <td>0.249861</td>\n",
       "      <td>0.250055</td>\n",
       "      <td>0.000257</td>\n",
       "      <td>8</td>\n",
       "      <td>0.249969</td>\n",
       "      <td>0.249969</td>\n",
       "      <td>0.250031</td>\n",
       "      <td>0.250031</td>\n",
       "      <td>0.249969</td>\n",
       "      <td>0.249969</td>\n",
       "      <td>0.250015</td>\n",
       "      <td>0.249954</td>\n",
       "      <td>0.250015</td>\n",
       "      <td>0.250015</td>\n",
       "      <td>0.249994</td>\n",
       "      <td>0.000029</td>\n",
       "    </tr>\n",
       "    <tr>\n",
       "      <th>9</th>\n",
       "      <td>0.374524</td>\n",
       "      <td>0.073258</td>\n",
       "      <td>0.007956</td>\n",
       "      <td>0.004786</td>\n",
       "      <td>l2</td>\n",
       "      <td>500</td>\n",
       "      <td>log</td>\n",
       "      <td>0.1</td>\n",
       "      <td>{'penalty': 'l2', 'max_iter': 500, 'loss': 'lo...</td>\n",
       "      <td>0.501107</td>\n",
       "      <td>0.500554</td>\n",
       "      <td>0.501107</td>\n",
       "      <td>0.500000</td>\n",
       "      <td>0.499446</td>\n",
       "      <td>0.499446</td>\n",
       "      <td>0.499723</td>\n",
       "      <td>0.499723</td>\n",
       "      <td>0.500831</td>\n",
       "      <td>0.500277</td>\n",
       "      <td>0.500222</td>\n",
       "      <td>0.000617</td>\n",
       "      <td>4</td>\n",
       "      <td>0.500123</td>\n",
       "      <td>0.500185</td>\n",
       "      <td>0.500123</td>\n",
       "      <td>0.500246</td>\n",
       "      <td>0.500308</td>\n",
       "      <td>0.500308</td>\n",
       "      <td>0.500277</td>\n",
       "      <td>0.500277</td>\n",
       "      <td>0.500154</td>\n",
       "      <td>0.500215</td>\n",
       "      <td>0.500222</td>\n",
       "      <td>0.000069</td>\n",
       "    </tr>\n",
       "  </tbody>\n",
       "</table>\n",
       "</div>"
      ],
      "text/plain": [
       "   mean_fit_time  std_fit_time  ...  mean_train_score  std_train_score\n",
       "0       0.485886      0.061661  ...          0.274985         0.075005\n",
       "1       0.592875      0.052772  ...          0.976148         0.012015\n",
       "2       0.414825      0.041471  ...          0.341161         0.099081\n",
       "3       0.510780      0.041016  ...          0.250012         0.000056\n",
       "4       0.436784      0.036952  ...          0.714727         0.018189\n",
       "5       0.387487      0.034974  ...          0.250012         0.000026\n",
       "6       0.576764      0.040114  ...          0.965102         0.024965\n",
       "7       0.370012      0.028628  ...          0.267588         0.049771\n",
       "8       0.385606      0.024013  ...          0.249994         0.000029\n",
       "9       0.374524      0.073258  ...          0.500222         0.000069\n",
       "\n",
       "[10 rows x 34 columns]"
      ]
     },
     "execution_count": 28,
     "metadata": {
      "tags": []
     },
     "output_type": "execute_result"
    }
   ],
   "source": [
    "results = pd.DataFrame.from_dict(sgd_cv.cv_results_)\n",
    "results"
   ]
  },
  {
   "cell_type": "code",
   "execution_count": 29,
   "metadata": {
    "id": "fPchDyI07Kyn"
   },
   "outputs": [],
   "source": [
    "results = results.sort_values(['param_alpha'])\n",
    "train_auc= results['mean_train_score']\n",
    "train_auc_std= results['std_train_score']\n",
    "cv_auc = results['mean_test_score'] \n",
    "cv_auc_std = results['std_test_score']"
   ]
  },
  {
   "cell_type": "code",
   "execution_count": 30,
   "metadata": {
    "id": "nrEGJeK08B7Z"
   },
   "outputs": [],
   "source": [
    "max_alpha = results['param_alpha'].values\n",
    "train_auc = results['mean_train_score']\n",
    "test_auc = results['mean_test_score']\n",
    "train_auc_dataframe =pd.DataFrame(data={'Best Alpha':max_alpha,'Train_AUC_Score':train_auc})\n",
    "test_auc_dataframe =pd.DataFrame(data={'Best Alpha':max_alpha,'Test_AUC_Score':test_auc})"
   ]
  },
  {
   "cell_type": "code",
   "execution_count": 31,
   "metadata": {
    "colab": {
     "base_uri": "https://localhost:8080/",
     "height": 347
    },
    "id": "vAD4FIwk8qC2",
    "outputId": "f722e40b-6275-4d1c-f8e6-4bf400c45318"
   },
   "outputs": [
    {
     "data": {
      "text/html": [
       "<div>\n",
       "<style scoped>\n",
       "    .dataframe tbody tr th:only-of-type {\n",
       "        vertical-align: middle;\n",
       "    }\n",
       "\n",
       "    .dataframe tbody tr th {\n",
       "        vertical-align: top;\n",
       "    }\n",
       "\n",
       "    .dataframe thead th {\n",
       "        text-align: right;\n",
       "    }\n",
       "</style>\n",
       "<table border=\"1\" class=\"dataframe\">\n",
       "  <thead>\n",
       "    <tr style=\"text-align: right;\">\n",
       "      <th></th>\n",
       "      <th>Best Alpha</th>\n",
       "      <th>Train_AUC_Score</th>\n",
       "    </tr>\n",
       "  </thead>\n",
       "  <tbody>\n",
       "    <tr>\n",
       "      <th>1</th>\n",
       "      <td>0.0001</td>\n",
       "      <td>0.976148</td>\n",
       "    </tr>\n",
       "    <tr>\n",
       "      <th>6</th>\n",
       "      <td>0.0001</td>\n",
       "      <td>0.965102</td>\n",
       "    </tr>\n",
       "    <tr>\n",
       "      <th>4</th>\n",
       "      <td>0.01</td>\n",
       "      <td>0.714727</td>\n",
       "    </tr>\n",
       "    <tr>\n",
       "      <th>9</th>\n",
       "      <td>0.1</td>\n",
       "      <td>0.500222</td>\n",
       "    </tr>\n",
       "    <tr>\n",
       "      <th>2</th>\n",
       "      <td>1</td>\n",
       "      <td>0.341161</td>\n",
       "    </tr>\n",
       "    <tr>\n",
       "      <th>0</th>\n",
       "      <td>10</td>\n",
       "      <td>0.274985</td>\n",
       "    </tr>\n",
       "    <tr>\n",
       "      <th>3</th>\n",
       "      <td>10</td>\n",
       "      <td>0.250012</td>\n",
       "    </tr>\n",
       "    <tr>\n",
       "      <th>8</th>\n",
       "      <td>100</td>\n",
       "      <td>0.249994</td>\n",
       "    </tr>\n",
       "    <tr>\n",
       "      <th>5</th>\n",
       "      <td>1000</td>\n",
       "      <td>0.250012</td>\n",
       "    </tr>\n",
       "    <tr>\n",
       "      <th>7</th>\n",
       "      <td>1000</td>\n",
       "      <td>0.267588</td>\n",
       "    </tr>\n",
       "  </tbody>\n",
       "</table>\n",
       "</div>"
      ],
      "text/plain": [
       "  Best Alpha  Train_AUC_Score\n",
       "1     0.0001         0.976148\n",
       "6     0.0001         0.965102\n",
       "4       0.01         0.714727\n",
       "9        0.1         0.500222\n",
       "2          1         0.341161\n",
       "0         10         0.274985\n",
       "3         10         0.250012\n",
       "8        100         0.249994\n",
       "5       1000         0.250012\n",
       "7       1000         0.267588"
      ]
     },
     "execution_count": 31,
     "metadata": {
      "tags": []
     },
     "output_type": "execute_result"
    }
   ],
   "source": [
    "train_auc_dataframe"
   ]
  },
  {
   "cell_type": "code",
   "execution_count": 32,
   "metadata": {
    "colab": {
     "base_uri": "https://localhost:8080/",
     "height": 347
    },
    "id": "6yhqlmZf8-0W",
    "outputId": "92f8cd93-4e55-4bf0-b022-e1587275cd82"
   },
   "outputs": [
    {
     "data": {
      "text/html": [
       "<div>\n",
       "<style scoped>\n",
       "    .dataframe tbody tr th:only-of-type {\n",
       "        vertical-align: middle;\n",
       "    }\n",
       "\n",
       "    .dataframe tbody tr th {\n",
       "        vertical-align: top;\n",
       "    }\n",
       "\n",
       "    .dataframe thead th {\n",
       "        text-align: right;\n",
       "    }\n",
       "</style>\n",
       "<table border=\"1\" class=\"dataframe\">\n",
       "  <thead>\n",
       "    <tr style=\"text-align: right;\">\n",
       "      <th></th>\n",
       "      <th>Best Alpha</th>\n",
       "      <th>Test_AUC_Score</th>\n",
       "    </tr>\n",
       "  </thead>\n",
       "  <tbody>\n",
       "    <tr>\n",
       "      <th>1</th>\n",
       "      <td>0.0001</td>\n",
       "      <td>0.975520</td>\n",
       "    </tr>\n",
       "    <tr>\n",
       "      <th>6</th>\n",
       "      <td>0.0001</td>\n",
       "      <td>0.966161</td>\n",
       "    </tr>\n",
       "    <tr>\n",
       "      <th>4</th>\n",
       "      <td>0.01</td>\n",
       "      <td>0.714778</td>\n",
       "    </tr>\n",
       "    <tr>\n",
       "      <th>9</th>\n",
       "      <td>0.1</td>\n",
       "      <td>0.500222</td>\n",
       "    </tr>\n",
       "    <tr>\n",
       "      <th>2</th>\n",
       "      <td>1</td>\n",
       "      <td>0.341384</td>\n",
       "    </tr>\n",
       "    <tr>\n",
       "      <th>0</th>\n",
       "      <td>10</td>\n",
       "      <td>0.275139</td>\n",
       "    </tr>\n",
       "    <tr>\n",
       "      <th>3</th>\n",
       "      <td>10</td>\n",
       "      <td>0.250000</td>\n",
       "    </tr>\n",
       "    <tr>\n",
       "      <th>8</th>\n",
       "      <td>100</td>\n",
       "      <td>0.250055</td>\n",
       "    </tr>\n",
       "    <tr>\n",
       "      <th>5</th>\n",
       "      <td>1000</td>\n",
       "      <td>0.249889</td>\n",
       "    </tr>\n",
       "    <tr>\n",
       "      <th>7</th>\n",
       "      <td>1000</td>\n",
       "      <td>0.268162</td>\n",
       "    </tr>\n",
       "  </tbody>\n",
       "</table>\n",
       "</div>"
      ],
      "text/plain": [
       "  Best Alpha  Test_AUC_Score\n",
       "1     0.0001        0.975520\n",
       "6     0.0001        0.966161\n",
       "4       0.01        0.714778\n",
       "9        0.1        0.500222\n",
       "2          1        0.341384\n",
       "0         10        0.275139\n",
       "3         10        0.250000\n",
       "8        100        0.250055\n",
       "5       1000        0.249889\n",
       "7       1000        0.268162"
      ]
     },
     "execution_count": 32,
     "metadata": {
      "tags": []
     },
     "output_type": "execute_result"
    }
   ],
   "source": [
    "test_auc_dataframe"
   ]
  },
  {
   "cell_type": "code",
   "execution_count": 34,
   "metadata": {
    "colab": {
     "base_uri": "https://localhost:8080/"
    },
    "id": "EMXPwvEY9Lij",
    "outputId": "d97dc5a6-03ef-4b95-970e-3f4ee74c9246"
   },
   "outputs": [
    {
     "data": {
      "text/plain": [
       "SGDClassifier(alpha=0.0001, average=False, class_weight=None,\n",
       "              early_stopping=False, epsilon=0.1, eta0=0.0, fit_intercept=True,\n",
       "              l1_ratio=0.15, learning_rate='optimal', loss='log', max_iter=500,\n",
       "              n_iter_no_change=5, n_jobs=None, penalty='l2', power_t=0.5,\n",
       "              random_state=None, shuffle=True, tol=0.001,\n",
       "              validation_fraction=0.1, verbose=0, warm_start=False)"
      ]
     },
     "execution_count": 34,
     "metadata": {
      "tags": []
     },
     "output_type": "execute_result"
    }
   ],
   "source": [
    "##Fitting the SGD classifier model \n",
    "model1= SGDClassifier(loss='log',alpha=0.0001, max_iter=500, penalty= 'l2')\n",
    "model1.fit(os_train_X, os_train_Y)"
   ]
  },
  {
   "cell_type": "code",
   "execution_count": 35,
   "metadata": {
    "colab": {
     "base_uri": "https://localhost:8080/"
    },
    "id": "0zjSKKPu-1-M",
    "outputId": "6693815f-2579-4b39-d201-1b8c2d69c443"
   },
   "outputs": [
    {
     "data": {
      "text/plain": [
       "array([[-13.47332516,   0.06528741,  -2.14831211,   2.15027213],\n",
       "       [-10.45304055,  -0.3641312 ,  -1.96168613,  -1.39390301],\n",
       "       [-13.47332516,   0.06528741,  -2.14831211,   2.15027213],\n",
       "       ...,\n",
       "       [ -1.17339654,  -1.58479547,  -1.18153552, -13.01883654],\n",
       "       [ -4.35908152,  -1.35224516,  -1.55539211,  -8.59947365],\n",
       "       [ -1.51144957,  -1.15198513,  -1.10582482, -12.98500217]])"
      ]
     },
     "execution_count": 35,
     "metadata": {
      "tags": []
     },
     "output_type": "execute_result"
    }
   ],
   "source": [
    "model1.decision_function(os_train_X)"
   ]
  },
  {
   "cell_type": "code",
   "execution_count": 36,
   "metadata": {
    "colab": {
     "base_uri": "https://localhost:8080/"
    },
    "id": "c_i1mMLTFsEb",
    "outputId": "da3ca9ca-17fe-4207-96a9-150bb55721b5"
   },
   "outputs": [
    {
     "data": {
      "text/plain": [
       "array([[-13.47332516,   0.06528741,  -2.14831211,   2.15027213],\n",
       "       [-13.47332516,   0.06528741,  -2.14831211,   2.15027213],\n",
       "       [-13.47332516,   0.06528741,  -2.14831211,   2.15027213],\n",
       "       ...,\n",
       "       [ -4.36327162,  -1.13480273,  -1.54698999,  -8.609061  ],\n",
       "       [ -4.33225142,  -0.92929721,  -1.46260047,  -9.05467459],\n",
       "       [ -4.37198174,  -1.22675373,  -1.563701  ,  -8.54920492]])"
      ]
     },
     "execution_count": 36,
     "metadata": {
      "tags": []
     },
     "output_type": "execute_result"
    }
   ],
   "source": [
    "model1.decision_function(os_test_X)"
   ]
  },
  {
   "cell_type": "code",
   "execution_count": 37,
   "metadata": {
    "id": "PMWaPgS-_UMO"
   },
   "outputs": [],
   "source": [
    "y_pred_train =model1.predict(os_train_X)\n",
    "y_pred_test =model1.predict(os_test_X)"
   ]
  },
  {
   "cell_type": "code",
   "execution_count": 38,
   "metadata": {
    "colab": {
     "base_uri": "https://localhost:8080/"
    },
    "id": "Mt2cuv_hFHO4",
    "outputId": "7d2f2584-e48a-4c48-d0cf-c140ab433211"
   },
   "outputs": [
    {
     "name": "stdout",
     "output_type": "stream",
     "text": [
      "['No_sales' 'Low' 'No_sales' ... 'High' 'Low' 'Moderate']\n"
     ]
    }
   ],
   "source": [
    "print(y_pred_train)"
   ]
  },
  {
   "cell_type": "code",
   "execution_count": 39,
   "metadata": {
    "colab": {
     "base_uri": "https://localhost:8080/"
    },
    "id": "mKjHS2jcFNIU",
    "outputId": "164bcd1d-5d6f-457e-dae6-8a7ea9249eaa"
   },
   "outputs": [
    {
     "name": "stdout",
     "output_type": "stream",
     "text": [
      "['No_sales' 'No_sales' 'No_sales' ... 'Low' 'Low' 'Low']\n"
     ]
    }
   ],
   "source": [
    "print(y_pred_test)"
   ]
  },
  {
   "cell_type": "code",
   "execution_count": 40,
   "metadata": {
    "colab": {
     "base_uri": "https://localhost:8080/"
    },
    "id": "BsgPsCKj_fvc",
    "outputId": "1b16b186-d0c1-4462-ee3d-53e380a203c9"
   },
   "outputs": [
    {
     "name": "stdout",
     "output_type": "stream",
     "text": [
      "Train Confusion Matrix\n",
      "[[4514    0    0    0]\n",
      " [   0 4505    9    0]\n",
      " [1045 2494  975    0]\n",
      " [   0    0    0 4514]]\n",
      "Test Confusion Matrix\n",
      "[[1935    0    0    0]\n",
      " [   0 1931    4    0]\n",
      " [ 444 1044  447    0]\n",
      " [   0    0    0 1935]]\n"
     ]
    }
   ],
   "source": [
    "cm_train = (metrics.confusion_matrix(os_train_Y,y_pred_train))\n",
    "cm_test = (metrics.confusion_matrix(os_test_Y,y_pred_test))\n",
    "\n",
    "print('Train Confusion Matrix')\n",
    "print(cm_train)\n",
    "print('Test Confusion Matrix')\n",
    "print(cm_test)"
   ]
  },
  {
   "cell_type": "code",
   "execution_count": 41,
   "metadata": {
    "colab": {
     "base_uri": "https://localhost:8080/",
     "height": 476
    },
    "id": "_e7moK4zCpwb",
    "outputId": "013d2c7d-148a-43c8-ab5a-26f4829a06fd"
   },
   "outputs": [
    {
     "data": {
      "text/plain": [
       "<matplotlib.axes._subplots.AxesSubplot at 0x7f3cbd805f90>"
      ]
     },
     "execution_count": 41,
     "metadata": {
      "tags": []
     },
     "output_type": "execute_result"
    },
    {
     "data": {
      "image/png": "[encoded data removed]",
      "text/plain": [
       "<Figure size 720x504 with 2 Axes>"
      ]
     },
     "metadata": {
      "needs_background": "light",
      "tags": []
     },
     "output_type": "display_data"
    }
   ],
   "source": [
    "##Beautifying confusion matrix\n",
    "train_data = metrics.confusion_matrix(os_train_Y,y_pred_train)\n",
    "df_cm = pd.DataFrame(train_data, columns=np.unique(os_train_Y), index = np.unique(y_pred_train))\n",
    "df_cm.index.name = 'Predicted'\n",
    "df_cm.columns.name = 'Actual'\n",
    "plt.figure(figsize = (10,7))\n",
    "plt.title('Train CM')\n",
    "sns.set(font_scale=1.4)#for label size\n",
    "sns.heatmap(df_cm, cmap=\"Blues\", annot=True,annot_kws={\"size\": 16})# font size"
   ]
  },
  {
   "cell_type": "code",
   "execution_count": 42,
   "metadata": {
    "colab": {
     "base_uri": "https://localhost:8080/",
     "height": 496
    },
    "id": "X6SD5lA8Hg_p",
    "outputId": "d49f551a-5632-4773-d006-20626a234cd2"
   },
   "outputs": [
    {
     "data": {
      "text/plain": [
       "<matplotlib.axes._subplots.AxesSubplot at 0x7f3cbd80f490>"
      ]
     },
     "execution_count": 42,
     "metadata": {
      "tags": []
     },
     "output_type": "execute_result"
    },
    {
     "data": {
      "image/png": "[encoded data removed]",
      "text/plain": [
       "<Figure size 720x504 with 2 Axes>"
      ]
     },
     "metadata": {
      "tags": []
     },
     "output_type": "display_data"
    }
   ],
   "source": [
    "test_data = metrics.confusion_matrix(os_test_Y,y_pred_test)\n",
    "df_cm = pd.DataFrame(test_data, columns=np.unique(os_test_Y), index = np.unique(y_pred_test))\n",
    "df_cm.index.name = 'Predicted'\n",
    "df_cm.columns.name = 'Actual'\n",
    "plt.figure(figsize = (10,7))\n",
    "plt.title('Test CM')\n",
    "sns.set(font_scale=1.4)#for label size\n",
    "sns.heatmap(df_cm, cmap=\"Blues\", annot=True,annot_kws={\"size\": 16})# font size"
   ]
  },
  {
   "cell_type": "code",
   "execution_count": 43,
   "metadata": {
    "colab": {
     "base_uri": "https://localhost:8080/"
    },
    "id": "Z1nLwR33C31h",
    "outputId": "d5325aa6-974a-4cc5-9091-20dc86fd09ad"
   },
   "outputs": [
    {
     "name": "stdout",
     "output_type": "stream",
     "text": [
      "              precision    recall  f1-score   support\n",
      "\n",
      "        High       0.81      1.00      0.90      4514\n",
      "         Low       0.64      1.00      0.78      4514\n",
      "    Moderate       0.99      0.22      0.35      4514\n",
      "    No_sales       1.00      1.00      1.00      4514\n",
      "\n",
      "    accuracy                           0.80     18056\n",
      "   macro avg       0.86      0.80      0.76     18056\n",
      "weighted avg       0.86      0.80      0.76     18056\n",
      "\n"
     ]
    }
   ],
   "source": [
    "from sklearn.metrics import classification_report\n",
    "print(classification_report(os_train_Y,y_pred_train))"
   ]
  },
  {
   "cell_type": "code",
   "execution_count": 44,
   "metadata": {
    "colab": {
     "base_uri": "https://localhost:8080/"
    },
    "id": "mZB7ZNmrICss",
    "outputId": "df9a3394-04c2-4b11-ddae-263547a32421"
   },
   "outputs": [
    {
     "name": "stdout",
     "output_type": "stream",
     "text": [
      "              precision    recall  f1-score   support\n",
      "\n",
      "        High       0.81      1.00      0.90      1935\n",
      "         Low       0.65      1.00      0.79      1935\n",
      "    Moderate       0.99      0.23      0.37      1935\n",
      "    No_sales       1.00      1.00      1.00      1935\n",
      "\n",
      "    accuracy                           0.81      7740\n",
      "   macro avg       0.86      0.81      0.76      7740\n",
      "weighted avg       0.86      0.81      0.76      7740\n",
      "\n"
     ]
    }
   ],
   "source": [
    "print(classification_report(os_test_Y,y_pred_test))"
   ]
  },
  {
   "cell_type": "code",
   "execution_count": 57,
   "metadata": {
    "colab": {
     "base_uri": "https://localhost:8080/"
    },
    "id": "vj94sam3XYL2",
    "outputId": "fb4ee9dc-7d8f-43bf-fbbd-d70003379ecc"
   },
   "outputs": [
    {
     "name": "stdout",
     "output_type": "stream",
     "text": [
      "The training accuracy of the model is:0.8035002215330084\n",
      "The testing accuracy of the model is:0.807235142118863\n"
     ]
    }
   ],
   "source": [
    "print('The training accuracy of the model is:{}'.format(accuracy_score(os_train_Y,y_pred_train)))\n",
    "print('The testing accuracy of the model is:{}'.format(accuracy_score(os_test_Y,y_pred_test)))"
   ]
  },
  {
   "cell_type": "code",
   "execution_count": 45,
   "metadata": {
    "id": "Ub9r3Pdkxy2A"
   },
   "outputs": [],
   "source": [
    "from sklearn.metrics import roc_auc_score\n",
    "from sklearn.metrics import roc_curve, auc\n",
    "from sklearn.preprocessing import label_binarize\n",
    "from sklearn import preprocessing\n",
    "from sklearn.preprocessing import LabelEncoder\n",
    "from scipy import interp\n",
    "from sklearn.ensemble import GradientBoostingClassifier"
   ]
  },
  {
   "cell_type": "code",
   "execution_count": 54,
   "metadata": {
    "colab": {
     "base_uri": "https://localhost:8080/",
     "height": 641
    },
    "id": "MJ4zrg5yxy4W",
    "outputId": "46d6aa76-12da-4e64-a706-f444093f85c5"
   },
   "outputs": [
    {
     "data": {
      "image/png": "[encoded data removed]",
      "text/plain": [
       "<Figure size 1440x720 with 1 Axes>"
      ]
     },
     "metadata": {
      "tags": []
     },
     "output_type": "display_data"
    }
   ],
   "source": [
    "##Plotting curve for Logistic regression model\n",
    "from sklearn.metrics import roc_auc_score\n",
    "from sklearn.metrics import roc_curve, auc\n",
    "from sklearn.preprocessing import label_binarize\n",
    "from sklearn import preprocessing\n",
    "from sklearn.preprocessing import LabelEncoder\n",
    "from scipy import interp\n",
    "from itertools import cycle\n",
    "\n",
    "# Binarize the output\n",
    "y1= label_binarize(os_test_Y, classes=[0, 1, 2,3])\n",
    "n_classes = y1.shape[1]\n",
    "y_score =model1.fit(os_train_X,os_train_Y).decision_function(os_test_X)\n",
    "### MACRO\n",
    "fpr = dict()\n",
    "tpr = dict()\n",
    "roc_auc = dict()\n",
    "\n",
    "for i in range(n_classes):\n",
    "    fpr[i], tpr[i], _ = roc_curve(np.array(pd.get_dummies(os_test_Y))[:, i], np.array(pd.get_dummies(y_pred_test))[:, i])\n",
    "    roc_auc[i] = auc(fpr[i], tpr[i])\n",
    "\n",
    "\n",
    "all_fpr = np.unique(np.concatenate([fpr[i] for i in range(n_classes)]))\n",
    "\n",
    "mean_tpr = np.zeros_like(all_fpr)\n",
    "for i in range(n_classes):\n",
    "    mean_tpr += interp(all_fpr, fpr[i], tpr[i])\n",
    "\n",
    "mean_tpr /= n_classes\n",
    "\n",
    "fpr[\"macro\"] = all_fpr\n",
    "tpr[\"macro\"] = mean_tpr\n",
    "roc_auc[\"macro\"] = auc(fpr[\"macro\"], tpr[\"macro\"])\n",
    "\n",
    "lw=2\n",
    "plt.figure(figsize=(20,10))\n",
    "plt.plot(fpr[\"macro\"], tpr[\"macro\"],\n",
    "         label='macro-average ROC curve (area = {0:0.2f})'\n",
    "               ''.format(roc_auc[\"macro\"]),\n",
    "         color='green', linestyle=':', linewidth=4)\n",
    "\n",
    "colors = cycle(['aqua', 'darkorange', 'crimson','brown'])\n",
    "for i, color in zip(range(n_classes), colors):\n",
    "    plt.plot(fpr[i], tpr[i], color=color, lw=lw,\n",
    "             label='ROC curve of class {0} (area = {1:0.2f})'\n",
    "             ''.format(i, roc_auc[i]))\n",
    "\n",
    "plt.plot([0, 1], [0, 1], 'k--',color='red', lw=lw)\n",
    "plt.xlim([0.0, 1.0])\n",
    "plt.ylim([0.0, 1.05])\n",
    "plt.annotate('Random Guess',(.5,.48),color='red')\n",
    "plt.xlabel('False Positive Rate')\n",
    "plt.ylabel('True Positive Rate')\n",
    "plt.title('Receiver Operating Characteristic for SGD Classifier with logloss')\n",
    "plt.legend(loc=\"lower right\")\n",
    "plt.show()\n"
   ]
  },
  {
   "cell_type": "code",
   "execution_count": 49,
   "metadata": {
    "id": "pGLn08N5xy75"
   },
   "outputs": [],
   "source": []
  },
  {
   "cell_type": "code",
   "execution_count": null,
   "metadata": {
    "id": "A_CTRF5JS_k4"
   },
   "outputs": [],
   "source": []
  },
  {
   "cell_type": "code",
   "execution_count": null,
   "metadata": {
    "id": "cM5cFyl3MJ2P"
   },
   "outputs": [],
   "source": []
  },
  {
   "cell_type": "code",
   "execution_count": null,
   "metadata": {
    "id": "tasBCMSUMJ5r"
   },
   "outputs": [],
   "source": []
  },
  {
   "cell_type": "code",
   "execution_count": null,
   "metadata": {
    "id": "7PWceMsdMJ8v"
   },
   "outputs": [],
   "source": []
  },
  {
   "cell_type": "code",
   "execution_count": null,
   "metadata": {
    "id": "5HcZIR5-MJ_L"
   },
   "outputs": [],
   "source": []
  },
  {
   "cell_type": "code",
   "execution_count": null,
   "metadata": {
    "id": "IWN3ARoBMKCh"
   },
   "outputs": [],
   "source": []
  }
 ],
 "metadata": {
  "colab": {
   "collapsed_sections": [],
   "name": "Retaildata-2",
   "provenance": []
  },
  "kernelspec": {
   "display_name": "Python 3",
   "language": "python",
   "name": "python3"
  },
  "language_info": {
   "codemirror_mode": {
    "name": "ipython",
    "version": 3
   },
   "file_extension": ".py",
   "mimetype": "text/x-python",
   "name": "python",
   "nbconvert_exporter": "python",
   "pygments_lexer": "ipython3",
   "version": "3.8.3"
  }
 },
 "nbformat": 4,
 "nbformat_minor": 1
}
